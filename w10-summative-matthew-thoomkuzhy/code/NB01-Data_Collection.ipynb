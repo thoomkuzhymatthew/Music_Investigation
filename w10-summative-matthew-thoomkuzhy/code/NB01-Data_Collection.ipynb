{
 "cells": [
  {
   "cell_type": "markdown",
   "metadata": {},
   "source": [
    "**OBJECTIVE:** use the requests library to collect data about the top 100 artists from the Spotify API and save the individual raw JSON responses to files in the data/raw/ directory.\n",
    "\n",
    "**AUTHOR:** Matthew Thoomkuzhy\n",
    "\n",
    "**LAST EDITED:** *25/11/2024*"
   ]
  },
  {
   "cell_type": "markdown",
   "metadata": {},
   "source": [
    "---"
   ]
  },
  {
   "cell_type": "markdown",
   "metadata": {},
   "source": [
    "# Data Collection\n",
    "\n",
    "* This notebook documents my process of collecting data using the spotify API to collect data regarding the relationships of the top 100 listened to artists of 2023.\n",
    "\n",
    "* The top 100 listened to artists of 2023 can be found [here](https://chartmasters.org/spotify-most-streamed-artists-of-2023/).\n",
    "\n",
    "* I have used Chat-GPT to automatically turn this information into a list for data input.\n"
   ]
  },
  {
   "cell_type": "markdown",
   "metadata": {},
   "source": [
    "### import necessary modules:"
   ]
  },
  {
   "cell_type": "code",
   "execution_count": 2,
   "metadata": {},
   "outputs": [],
   "source": [
    "import requests\n",
    "import dotenv\n",
    "from dotenv import load_dotenv\n",
    "import os\n",
    "import base64\n",
    "from requests import post\n",
    "import json\n",
    "\n",
    "top_100_artists = [\n",
    "    \"Taylor Swift\",\n",
    "    \"The Weeknd\",\n",
    "    \"Drake\",\n",
    "    \"Bad Bunny\",\n",
    "    \"Ed Sheeran\",\n",
    "    \"Justin Bieber\",\n",
    "    \"Ariana Grande\",\n",
    "    \"Eminem\",\n",
    "    \"Billie Eilish\",\n",
    "    \"Post Malone\",\n",
    "    \"BTS\",\n",
    "    \"J Balvin\",\n",
    "    \"Kanye West\",\n",
    "    \"Rihanna\",\n",
    "    \"Doja Cat\",\n",
    "    \"Olivia Rodrigo\",\n",
    "    \"Dua Lipa\",\n",
    "    \"Travis Scott\",\n",
    "    \"Kendrick Lamar\",\n",
    "    \"Lil Nas X\",\n",
    "    \"Shawn Mendes\",\n",
    "    \"Harry Styles\",\n",
    "    \"Maroon 5\",\n",
    "    \"Imagine Dragons\",\n",
    "    \"Cardi B\",\n",
    "    \"Juice WRLD\",\n",
    "    \"Lil Baby\",\n",
    "    \"SZA\",\n",
    "    \"Future\",\n",
    "    \"The Kid LAROI\",\n",
    "    \"Badshah\",\n",
    "    \"ANITTA\",\n",
    "    \"Camila Cabello\",\n",
    "    \"Selena Gomez\",\n",
    "    \"Halsey\",\n",
    "    \"Nicki Minaj\",\n",
    "    \"Lil Wayne\",\n",
    "    \"21 Savage\",\n",
    "    \"Megan Thee Stallion\",\n",
    "    \"Khalid\",\n",
    "    \"Lizzo\",\n",
    "    \"Billie Eilish\",\n",
    "    \"J. Cole\",\n",
    "    \"Adele\",\n",
    "    \"Bruno Mars\",\n",
    "    \"Chris Brown\",\n",
    "    \"Marshmello\",\n",
    "    \"DJ Snake\",\n",
    "    \"Daddy Yankee\",\n",
    "    \"Maluma\",\n",
    "    \"Ozuna\",\n",
    "    \"Karol G\",\n",
    "    \"Becky G\",\n",
    "    \"Nicky Jam\",\n",
    "    \"Sech\",\n",
    "    \"Myke Towers\",\n",
    "    \"Rauw Alejandro\",\n",
    "    \"Farruko\",\n",
    "    \"Jhay Cortez\",\n",
    "    \"Lunay\",\n",
    "    \"Tainy\",\n",
    "    \"Arcangel\",\n",
    "    \"Bryant Myers\",\n",
    "    \"De La Ghetto\",\n",
    "    \"Yandel\",\n",
    "    \"Wisin\",\n",
    "    \"Zion & Lennox\",\n",
    "    \"Natti Natasha\",\n",
    "    \"Manuel Turizo\",\n",
    "    \"Reik\",\n",
    "    \"CNCO\",\n",
    "    \"Sebastián Yatra\",\n",
    "    \"Morat\",\n",
    "    \"Piso 21\",\n",
    "    \"Mau y Ricky\",\n",
    "    \"Camilo\",\n",
    "    \"Kany García\",\n",
    "    \"Ricardo Arjona\",\n",
    "    \"Alejandro Sanz\",\n",
    "    \"Pablo Alborán\",\n",
    "    \"Luis Fonsi\",\n",
    "    \"Enrique Iglesias\",\n",
    "    \"Shakira\",\n",
    "    \"Thalía\",\n",
    "    \"Paulina Rubio\",\n",
    "    \"Gloria Trevi\",\n",
    "    \"Alejandra Guzmán\",\n",
    "    \"LA INDIA\",\n",
    "    \"Ivy Queen\",\n",
    "    \"Celia Cruz\",\n",
    "    \"Marc Anthony\",\n",
    "    \"Romeo Santos\",\n",
    "    \"Prince Royce\",\n",
    "    \"Aventura\",\n",
    "    \"Gente de Zona\",\n",
    "    \"Chino & Nacho\",\n",
    "    \"Wisin & Yandel\",\n",
    "    \"Plan B\",\n",
    "    \"Jowell & Randy\",\n",
    "    \"Alexis & Fido\"\n",
    "]  "
   ]
  },
  {
   "cell_type": "markdown",
   "metadata": {},
   "source": [
    "___"
   ]
  },
  {
   "cell_type": "markdown",
   "metadata": {},
   "source": [
    "### Activate API token:\n",
    "Next I am going to create a function which allows me to quickly obtain my API token so I can easily pass it as a parameter into functions in the future\n"
   ]
  },
  {
   "cell_type": "code",
   "execution_count": null,
   "metadata": {},
   "outputs": [
    {
     "name": "stdout",
     "output_type": "stream",
     "text": [
      "Token retrieved successfully!\n"
     ]
    }
   ],
   "source": [
    "\n",
    "\n",
    "# Load environment variable\n",
    "load_dotenv(dotenv_path=\"../.env\") \n",
    "CLIENT_ID = os.getenv(\"SPOTIFY_CLIENT_ID\")\n",
    "CLIENT_SECRET = os.getenv(\"SPOTIFY_CLIENT_SECRET\")\n",
    "\n",
    "if not CLIENT_ID or not CLIENT_SECRET:\n",
    "    raise EnvironmentError(\"CLIENT_ID or CLIENT_SECRET is not set. Check your .env file.\")\n",
    "\n",
    "def get_token():\n",
    "    # Encode CLIENT_ID and CLIENT_SECRET in Base64\n",
    "    auth_string = CLIENT_ID + \":\" + CLIENT_SECRET\n",
    "    auth_bytes = auth_string.encode(\"utf-8\")\n",
    "    auth_base64 = str(base64.b64encode(auth_bytes), \"utf-8\")\n",
    "    \n",
    "    # Define the URL and headers\n",
    "    base_url = \"https://accounts.spotify.com/api/token\"\n",
    "    headers = {\n",
    "        \"Authorization\": \"Basic \" + auth_base64,\n",
    "        \"Content-Type\": \"application/x-www-form-urlencoded\"\n",
    "    }\n",
    "    \n",
    "    # Define the data payload\n",
    "    data = {\"grant_type\": \"client_credentials\"}\n",
    "    \n",
    "\n",
    "    result = requests.post(base_url, headers=headers, data=data)\n",
    "    if result.status_code != 200:\n",
    "        raise Exception(f\"Failed to get token: {result.status_code}, {result.text}\")\n",
    "    \n",
    "    # Parse the JSON response\n",
    "    json_result = result.json()  # Parse response as JSON\n",
    "    token = json_result.get(\"access_token\")\n",
    "    if not token:\n",
    "        raise Exception(\"Failed to retrieve access token.\")\n",
    "    return token\n",
    "\n",
    "# Retrieve token\n",
    "token = get_token()\n",
    "\n",
    "def get_auth_header(token):\n",
    "    return {\"Authorization\": \"Bearer \" + token}\n",
    "\n",
    "print(\"Token retrieved successfully!\")\n"
   ]
  },
  {
   "cell_type": "markdown",
   "metadata": {},
   "source": [
    "---"
   ]
  },
  {
   "cell_type": "markdown",
   "metadata": {},
   "source": [
    "### Collecting General Artist Data:\n",
    "* I created and called a function which allows me to input a list of artists. \n",
    "* Then extract general information for each artist in the list. \n",
    "* Then concatenate the information into a larger combined JSON."
   ]
  },
  {
   "cell_type": "code",
   "execution_count": null,
   "metadata": {},
   "outputs": [
    {
     "name": "stdout",
     "output_type": "stream",
     "text": [
      "Data for 100 artists saved to ../data/raw/T100_artists_data1.json\n"
     ]
    }
   ],
   "source": [
    "def collect_artists_data(token, artists, file_path):\n",
    "    base_search_url = \"https://api.spotify.com/v1/search?\"\n",
    "    headers = get_auth_header(token)\n",
    "\n",
    "    # Dictionary to hold  artist data\n",
    "    all_artists_data = {}\n",
    "\n",
    "    for artist in artists:\n",
    "        # Construct the request URL for the current artist\n",
    "        request = f\"q={artist}&type=artist&limit=1\"\n",
    "        request_url = base_search_url + request\n",
    "        result = requests.get(request_url, headers=headers)\n",
    "        json_result = json.loads(result.content)\n",
    "        all_artists_data[artist] = json_result\n",
    "\n",
    "    os.makedirs(os.path.dirname(file_path), exist_ok=True)\n",
    "\n",
    "    # Write the concatenated JSON to the file\n",
    "    with open(file_path, 'w', encoding='utf-8') as file:\n",
    "        json.dump(all_artists_data, file, ensure_ascii=False, indent=4)\n",
    "\n",
    "    print(f\"Data for {len(artists)} artists saved to {file_path}\")\n",
    "\n",
    "token = get_token()\n",
    "\n",
    "  \n",
    "\n",
    "# Code I ran to Obtain file:\n",
    "file_path = \"../data/raw/T100_artists_data.json\"\n",
    "collect_artists_data(token, top_100_artists, file_path)\n"
   ]
  },
  {
   "cell_type": "markdown",
   "metadata": {},
   "source": [
    "---"
   ]
  },
  {
   "cell_type": "markdown",
   "metadata": {},
   "source": [
    "### *Further collection*- Related T100 artists of T100 artists:\n",
    "\n",
    "* I am going to be finding the number of other top 100 artists present in the related artists for each of the top 100 artists.\n",
    "\n",
    "* This data can be useful for establishing relationships/ idenitfying patterns within the top 100 Artists\n",
    "\n",
    "##### Note to marker:\n",
    "* For this data my endpoint was depracated but I was able to collect the data beforehand, so this code no longer works but the files have been collected"
   ]
  },
  {
   "cell_type": "code",
   "execution_count": null,
   "metadata": {},
   "outputs": [
    {
     "name": "stdout",
     "output_type": "stream",
     "text": [
      "Related artist analysis for 100 artists saved to ../data/raw/T100_related_artists_count.json\n"
     ]
    }
   ],
   "source": [
    "\n",
    "def collect_related_artist_counts(token, artists, file_path):\n",
    "    base_search_url = \"https://api.spotify.com/v1/search?\"\n",
    "    related_artists_url = \"https://api.spotify.com/v1/artists/{id}/related-artists\"\n",
    "    headers = get_auth_header(token)\n",
    "\n",
    "    # Dictionary to hold analysis results\n",
    "    related_artists_analysis = {}\n",
    "\n",
    "    for artist in artists:\n",
    "        # Get the artist's ID by searching for  artist\n",
    "        search_request = f\"q={artist}&type=artist&limit=1\"\n",
    "        search_url = base_search_url + search_request\n",
    "\n",
    "        # GET request to fetch artist ID\n",
    "        search_result = requests.get(search_url, headers=headers)\n",
    "        search_json = json.loads(search_result.content)\n",
    "\n",
    "        if search_json.get('artists') and search_json['artists']['items']:\n",
    "            artist_id = search_json['artists']['items'][0]['id']\n",
    "            artist_name = search_json['artists']['items'][0]['name']\n",
    "\n",
    "            # Using the artist ID to fetch related artists\n",
    "            related_url = related_artists_url.format(id=artist_id)\n",
    "            related_result = requests.get(related_url, headers=headers)\n",
    "            related_json = json.loads(related_result.content)\n",
    "\n",
    "            # Parse related artists' names\n",
    "            related_artists = [ra['name'] for ra in related_json.get('artists', [])]\n",
    "\n",
    "            # Count matches with the original top 100 list\n",
    "            matches_with_top_100 = [ra for ra in related_artists if ra in artists]\n",
    "            match_count = len(matches_with_top_100)\n",
    "\n",
    "            related_artists_analysis[artist_name] = {\n",
    "                \"artist_id\": artist_id,\n",
    "                \"related_artists_count\": len(related_artists),\n",
    "                \"matches_with_top_100\": matches_with_top_100,\n",
    "                \"match_count\": match_count\n",
    "            }\n",
    "        else:\n",
    "            # Handle cases where the artist is not found\n",
    "            related_artists_analysis[artist] = {\n",
    "                \"error\": \"Artist not found in Spotify.\"\n",
    "            }\n",
    "\n",
    "    os.makedirs(os.path.dirname(file_path), exist_ok=True)\n",
    "\n",
    "    with open(file_path, 'w', encoding='utf-8') as file:\n",
    "        json.dump(related_artists_analysis, file, ensure_ascii=False, indent=4)\n",
    "\n",
    "    print(f\"Related artist analysis for {len(artists)} artists saved to {file_path}\")\n",
    "\n",
    "token = get_token()\n",
    "\n",
    "\n",
    "# Code ran to obtain file:\n",
    "T100RA_file_path = \"../data/raw/T100_related_artists_count.json\"\n",
    "collect_related_artist_counts(token, top_100_artists, T100RA_file_path)"
   ]
  },
  {
   "cell_type": "markdown",
   "metadata": {},
   "source": [
    "---"
   ]
  },
  {
   "cell_type": "markdown",
   "metadata": {},
   "source": [
    "### Final Data to collect- top 100 artists top tracks\n",
    "\n",
    "* I am collecting data about the top 100 artists top tracks because I want to analyse how explicit songs are and whether there are patterns with artists and explicitness"
   ]
  },
  {
   "cell_type": "code",
   "execution_count": null,
   "metadata": {},
   "outputs": [
    {
     "name": "stdout",
     "output_type": "stream",
     "text": [
      "Top tracks for 100 artists saved to ../data/raw/T100_artists_top_tracks.json\n"
     ]
    }
   ],
   "source": [
    "import requests\n",
    "import json\n",
    "import os\n",
    "\n",
    "def get_auth_header(token):\n",
    "    return {\n",
    "        \"Authorization\": f\"Bearer {token}\"\n",
    "    }\n",
    "\n",
    "def collect_artists_top_tracks(token, artists, file_path, market=\"US\"):\n",
    "    base_search_url = \"https://api.spotify.com/v1/search?\"\n",
    "    base_top_tracks_url = \"https://api.spotify.com/v1/artists/\"\n",
    "    headers = get_auth_header(token)\n",
    "\n",
    "    # Create a dictionary to hold all artists' top tracks data\n",
    "    all_artists_top_tracks = {}\n",
    "\n",
    "    for artist in artists:\n",
    "        # Get artist ID using the search endpoint\n",
    "        search_request = f\"q={artist}&type=artist&limit=1\"\n",
    "        search_url = base_search_url + search_request\n",
    "\n",
    "        search_result = requests.get(search_url, headers=headers)\n",
    "        search_json = search_result.json()\n",
    "\n",
    "        # Check if the search returned an artist\n",
    "        if not search_json.get('artists', {}).get('items'):\n",
    "            print(f\"No artist found for {artist}. Skipping.\")\n",
    "            continue\n",
    "\n",
    "        artist_id = search_json['artists']['items'][0]['id']\n",
    "\n",
    "        # Get artist's top tracks using the artist ID\n",
    "        top_tracks_url = f\"{base_top_tracks_url}{artist_id}/top-tracks?market={market}\"\n",
    "        top_tracks_result = requests.get(top_tracks_url, headers=headers)\n",
    "        top_tracks_json = top_tracks_result.json()\n",
    "\n",
    "        # Add the top tracks data to the dictionary using the artist's name as the key\n",
    "        all_artists_top_tracks[artist] = top_tracks_json\n",
    "\n",
    "    os.makedirs(os.path.dirname(file_path), exist_ok=True)\n",
    "\n",
    "    with open(file_path, 'w', encoding='utf-8') as file:\n",
    "        json.dump(all_artists_top_tracks, file, ensure_ascii=False, indent=4)\n",
    "\n",
    "    print(f\"Top tracks for {len(artists)} artists saved to {file_path}\")\n",
    "    \n",
    "# Code ran to obtain file\n",
    "file_path = \"../data/raw/T100_artists_top_tracks.json\"\n",
    "collect_artists_top_tracks(token, top_100_artists, file_path)\n"
   ]
  }
 ],
 "metadata": {
  "kernelspec": {
   "display_name": "Python 3",
   "language": "python",
   "name": "python3"
  },
  "language_info": {
   "codemirror_mode": {
    "name": "ipython",
    "version": 3
   },
   "file_extension": ".py",
   "mimetype": "text/x-python",
   "name": "python",
   "nbconvert_exporter": "python",
   "pygments_lexer": "ipython3",
   "version": "3.12.7"
  }
 },
 "nbformat": 4,
 "nbformat_minor": 2
}
